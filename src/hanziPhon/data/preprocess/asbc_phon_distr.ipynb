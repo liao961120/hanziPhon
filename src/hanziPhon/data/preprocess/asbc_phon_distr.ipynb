{
 "cells": [
  {
   "cell_type": "code",
   "execution_count": 1,
   "metadata": {},
   "outputs": [],
   "source": [
    "import re\n",
    "from collections import Counter\n",
    "from utils import load_json, get_toned_bpm\n",
    "\n",
    "pat_chr = re.compile(r'[一-龜]')\n",
    "\n",
    "asbc_fq = load_json(\"ASBC_unigrams.json\")\n",
    "char_phon = load_json(\"moe_char_phon.json\")\n",
    "word_phon = load_json(\"moe_word_phon.json\")"
   ]
  },
  {
   "cell_type": "markdown",
   "metadata": {},
   "source": [
    "## Number of pronouncations in Moe Dict (Word)"
   ]
  },
  {
   "cell_type": "code",
   "execution_count": 2,
   "metadata": {},
   "outputs": [
    {
     "data": {
      "text/plain": [
       "Counter({1: 150948, 2: 619, 3: 9})"
      ]
     },
     "execution_count": 2,
     "metadata": {},
     "output_type": "execute_result"
    }
   ],
   "source": [
    "Counter(len(v) for v in word_phon.values())"
   ]
  },
  {
   "cell_type": "markdown",
   "metadata": {},
   "source": [
    "## Number of pronouncations in Moe Dict (Character)"
   ]
  },
  {
   "cell_type": "code",
   "execution_count": 3,
   "metadata": {},
   "outputs": [
    {
     "data": {
      "text/plain": [
       "Counter({1: 8643, 2: 1541, 3: 220, 4: 35, 6: 3, 5: 9})"
      ]
     },
     "execution_count": 3,
     "metadata": {},
     "output_type": "execute_result"
    }
   ],
   "source": [
    "Counter(len(v) for v in char_phon.values())"
   ]
  },
  {
   "cell_type": "markdown",
   "metadata": {},
   "source": [
    "## Frequency of phones in ASBC"
   ]
  },
  {
   "cell_type": "code",
   "execution_count": 4,
   "metadata": {},
   "outputs": [],
   "source": [
    "char_phon_fq = Counter()\n",
    "guessed_fq = Counter()\n",
    "unresolved_fq = Counter()\n",
    "\n",
    "for w, fq in asbc_fq.items():\n",
    "    # Not chinese\n",
    "    if not pat_chr.search(w):\n",
    "        continue\n",
    "    \n",
    "    # Word\n",
    "    if w in word_phon:\n",
    "        phons = word_phon[w]\n",
    "        phon = phons[0]\n",
    "        for i, ch in enumerate(phon['bpm']):\n",
    "            char_phon_fq.update({ch: fq})\n",
    "            if len(phons) > 1:\n",
    "                if len(char_phon.get(w[i], [])) > 1:\n",
    "                    guessed_fq.update({w[i]: fq})\n",
    "    # Character\n",
    "    else:\n",
    "        for ch in w:\n",
    "            if ch in char_phon:\n",
    "                phons = char_phon[ch]\n",
    "                phon = get_toned_bpm(phons[0])\n",
    "                char_phon_fq.update({phon: fq})\n",
    "                if len(phons) > 1:\n",
    "                    guessed_fq.update({ch: fq})\n",
    "            else:\n",
    "                unresolved_fq.update({ch: fq})"
   ]
  },
  {
   "cell_type": "code",
   "execution_count": 8,
   "metadata": {},
   "outputs": [
    {
     "data": {
      "text/plain": [
       "[('ㄉㄧˋ', 666127),\n",
       " ('ㄕˋ', 354501),\n",
       " ('ㄧ', 230911),\n",
       " ('ㄅㄨˋ', 204599),\n",
       " ('ㄗㄞˋ', 161114),\n",
       " ('ㄧㄡˇ', 155121),\n",
       " ('ㄕˊ', 154902),\n",
       " ('ㄖㄣˊ', 138061),\n",
       " ('ㄧˇ', 115095),\n",
       " ('ㄊㄚ', 114845),\n",
       " ('ㄨㄛˇ', 102508),\n",
       " ('ㄓㄨㄥ', 98136),\n",
       " ('ㄌㄧㄠˇ', 97431),\n",
       " ('ㄨㄟˊ', 95407),\n",
       " ('ㄧˋ', 94025),\n",
       " ('ㄉㄠˋ', 93724),\n",
       " ('ㄉㄚˋ', 93322),\n",
       " ('ㄍㄜˋ', 92693),\n",
       " ('ㄌㄧˋ', 92592),\n",
       " ('ㄓ', 90190)]"
      ]
     },
     "execution_count": 8,
     "metadata": {},
     "output_type": "execute_result"
    }
   ],
   "source": [
    "char_phon_fq.most_common(20)"
   ]
  },
  {
   "cell_type": "code",
   "execution_count": 5,
   "metadata": {},
   "outputs": [
    {
     "name": "stdout",
     "output_type": "stream",
     "text": [
      "Resolved: 0.9969062128057027\n",
      "Guessed: 0.19880567237306349\n"
     ]
    }
   ],
   "source": [
    "corp_size = sum(len(w)*fq for w, fq in asbc_fq.items() if pat_chr.search(w))\n",
    "guessed_size = sum(guessed_fq.values())\n",
    "unresolved_size = sum(unresolved_fq.values())\n",
    "resolved_size = sum(char_phon_fq.values())\n",
    "print('Resolved:', resolved_size / corp_size)\n",
    "print('Guessed:', guessed_size / resolved_size)"
   ]
  }
 ],
 "metadata": {
  "kernelspec": {
   "display_name": "py3.7",
   "language": "python",
   "name": "py3.7"
  },
  "language_info": {
   "codemirror_mode": {
    "name": "ipython",
    "version": 3
   },
   "file_extension": ".py",
   "mimetype": "text/x-python",
   "name": "python",
   "nbconvert_exporter": "python",
   "pygments_lexer": "ipython3",
   "version": "3.7.6"
  }
 },
 "nbformat": 4,
 "nbformat_minor": 4
}
